{
 "cells": [
  {
   "cell_type": "markdown",
   "id": "51a8aba6-53a6-426a-818f-2d6e3879d10c",
   "metadata": {},
   "source": [
    "# Install ComfyUI"
   ]
  },
  {
   "cell_type": "code",
   "execution_count": 22,
   "id": "ab4dea10-799a-400f-a94e-cfbdf5c998ba",
   "metadata": {
    "tags": []
   },
   "outputs": [],
   "source": [
    "# Global Paramter\n",
    "WORKING_DIR='/home/ec2-user/SageMaker'\n",
    "\n",
    "NGROK_AUTHTOKEN=\"Your_AuthToken_Here\""
   ]
  },
  {
   "cell_type": "code",
   "execution_count": null,
   "id": "13c77a04-9f0c-46b8-839f-eb3229f34a12",
   "metadata": {
    "tags": []
   },
   "outputs": [],
   "source": [
    "!git clone https://github.com/comfyanonymous/ComfyUI"
   ]
  },
  {
   "cell_type": "markdown",
   "id": "1609d674-de40-48b7-b924-5912d331916f",
   "metadata": {},
   "source": [
    "## Install dependencies"
   ]
  },
  {
   "cell_type": "code",
   "execution_count": null,
   "id": "9c83c4a3-b995-4cda-88a2-003fcb23c784",
   "metadata": {
    "tags": []
   },
   "outputs": [],
   "source": [
    "%cd $WORKING_DIR/ComfyUI\n",
    "\n",
    "!pip install -r requirements.txt\n",
    "!pip install torch torchvision\n",
    "\n",
    "!pip install pyngrok"
   ]
  },
  {
   "cell_type": "markdown",
   "id": "d83b2b76-5e5a-496e-8977-63dab9e60050",
   "metadata": {},
   "source": [
    "# Downloads VAE, Models, Checkpoints, Embeddings and Upscalers"
   ]
  },
  {
   "cell_type": "code",
   "execution_count": null,
   "id": "be598567-191b-4cc1-88eb-863d12abe2c7",
   "metadata": {
    "tags": []
   },
   "outputs": [],
   "source": [
    "#waifu diffusion VAE:\n",
    "!curl -Lo $WORKING_DIR\"/ComfyUI/models/vae/wd.vae.safetensors\" \"https://huggingface.co/NoCrypt/resources/resolve/main/VAE/wd.vae.safetensors\"\n",
    "\n",
    "#Remove the hashtag for desired checkpoints. Be careful, maximum 2 models recommended. The storage is limited !\n",
    "\n",
    "#Realistic checkpoints:\n",
    "!curl -Lo $WORKING_DIR\"/ComfyUI/models/checkpoints/Epicrealismv5.safetensors\" \"https://civitai.com/api/download/models/134065?type=Model&format=SafeTensor&size=pruned&fp=fp16\"\n",
    "#!curl -Lo $WORKING_DIR\"/ComfyUI/models/checkpoints/Cyberrealistic.safetensors\" \"https://civitai.com/api/download/models/138176?type=Model&format=SafeTensor&size=pruned&fp=fp16\"\n",
    "#!curl -Lo $WORKING_DIR\"/ComfyUI/models/checkpoints/Majicmix.safetensors\" \"https://civitai.com/api/download/models/94640\"\n",
    "#!curl -Lo $WORKING_DIR\"/ComfyUI/models/checkpoints/Photon.safetensors\" \"https://civitai.com/api/download/models/90072\"\n",
    "#!curl -Lo $WORKING_DIR\"/ComfyUI/models/checkpoints/chilloutmix.safetensors\" \"https://civitai.com/api/download/models/11745\"\n",
    "\n",
    "#Anime checkpoints:\n",
    "!curl -Lo $WORKING_DIR\"/ComfyUI/models/checkpoints/Anything_V4_5.safetensors\" \"https://civitai.com/api/download/models/5581\"\n",
    "#!curl -Lo $WORKING_DIR\"/ComfyUI/models/checkpoints/Anything_V5.safetensors\" \"https://civitai.com/api/download/models/30163\"\n",
    "#!curl -Lo $WORKING_DIR\"/ComfyUI/models/checkpoints/DivineEleganceMix_V6\" \"https://civitai.com/api/download/models/122702\"\n",
    "#!curl -Lo $WORKING_DIR\"/ComfyUI/models/checkpoints/AnimeCreative\" \"https://civitai.com/api/download/models/163570\"\n",
    "#!curl -Lo $WORKING_DIR\"/ComfyUI/models/checkpoints/Counterfeit_V3\" \"https://civitai.com/api/download/models/57618\"\n",
    "\n",
    "#Embeddings:\n",
    "!rm -r $WORKING_DIR/ComfyUI/models/embeddings\n",
    "%cd $WORKING_DIR/ComfyUI/models\n",
    "!git clone https://huggingface.co/Laft/embeddings\n",
    "\n",
    "#Upscalers:\n",
    "!curl -Lo $WORKING_DIR\"/ComfyUI/models/upscale_models/4x-UltraSharp.pth\" \"https://civitai.com/api/download/models/125843\"\n",
    "!curl -Lo $WORKING_DIR\"/ComfyUI/models/upscale_models/4x_fatal_Anime_500000_G.pth\" \"https://huggingface.co/Laft/4x_fatal_Anime_500000_G/resolve/main/4x_fatal_Anime_500000_G.pth\""
   ]
  },
  {
   "cell_type": "markdown",
   "id": "a556f902-e7e7-47b7-b946-f9b278b7ddaf",
   "metadata": {},
   "source": [
    "# Controlnet & Loras"
   ]
  },
  {
   "cell_type": "code",
   "execution_count": null,
   "id": "ceb58934-0e06-491f-b8d7-139a5add0a04",
   "metadata": {
    "tags": []
   },
   "outputs": [],
   "source": [
    "#Choose only few Controlnet Models. The storage is limited !\n",
    "!curl -Lo $WORKING_DIR\"/ComfyUI/models/controlnet/openpose.safetensors\" \"https://huggingface.co/ckpt/ControlNet-v1-1/resolve/main/control_v11p_sd15_openpose_fp16.safetensors\"\n",
    "#!curl -Lo $WORKING_DIR\"/ComfyUI/models/controlnet/shuffle.safetensors\" \"https://huggingface.co/ckpt/ControlNet-v1-1/resolve/main/control_v11e_sd15_shuffle_fp16.safetensors\"\n",
    "#!curl -Lo $WORKING_DIR\"/ComfyUI/models/controlnet/canny.safetensors\" \"https://huggingface.co/ckpt/ControlNet-v1-1/resolve/main/control_v11p_sd15_canny_fp16.safetensors\"\n",
    "#!curl -Lo $WORKING_DIR\"/ComfyUI/models/controlnet/depth.safetensors\" \"https://huggingface.co/ckpt/ControlNet-v1-1/resolve/main/control_v11f1p_sd15_depth_fp16.safetensors\"\n",
    "!curl -Lo $WORKING_DIR\"/ComfyUI/models/controlnet/tile.safetensors\" \"https://huggingface.co/ckpt/ControlNet-v1-1/resolve/main/control_v11f1e_sd15_tile_fp16.safetensors\"\n",
    "#!curl -Lo $WORKING_DIR\"/ComfyUI/models/controlnet/inpaint.safetensors\" \"https://huggingface.co/ckpt/ControlNet-v1-1/resolve/main/control_v11p_sd15_inpaint_fp16.safetensors\"\n",
    "#!curl -Lo $WORKING_DIR\"/ComfyUI/models/controlnet/lineart.safetensors\" \"https://huggingface.co/ckpt/ControlNet-v1-1/resolve/main/control_v11p_sd15_lineart_fp16.safetensors\"\n",
    "#!curl -Lo $WORKING_DIR\"/ComfyUI/models/controlnet/mlsd.safetensors\" \"https://huggingface.co/ckpt/ControlNet-v1-1/resolve/main/control_v11p_sd15_mlsd_fp16.safetensors\"\n",
    "#!curl -Lo $WORKING_DIR\"/ComfyUI/models/controlnet/normalbae.safetensors\" \"https://huggingface.co/ckpt/ControlNet-v1-1/resolve/main/control_v11p_sd15_normalbae_fp16.safetensors\"\n",
    "#!curl -Lo $WORKING_DIR\"/ComfyUI/models/controlnet/scribble.safetensors\" \"https://huggingface.co/ckpt/ControlNet-v1-1/resolve/main/control_v11p_sd15_scribble_fp16.safetensors\"\n",
    "#!curl -Lo $WORKING_DIR\"/ComfyUI/models/controlnet/softedge.safetensors\" \"https://huggingface.co/ckpt/ControlNet-v1-1/resolve/main/control_v11p_sd15_softedge_fp16.safetensors\"\n",
    "#!curl -Lo $WORKING_DIR\"/ComfyUI/models/controlnet/lineart_anime.safetensors\" \"https://huggingface.co/ckpt/ControlNet-v1-1/resolve/main/control_v11p_sd15s2_lineart_anime_fp16.safetensors\"\n",
    "\n",
    "#Download lora manually here\n",
    "!curl -Lo $WORKING_DIR\"/ComfyUI/models/loras/adddetailer.safetensors\" \"https://civitai.com/api/download/models/62833\"\n",
    "!curl -Lo $WORKING_DIR\"/ComfyUI/models/loras/epinoiseoffset.safetensors\" \"https://civitai.com/api/download/models/16576?type=Model&format=SafeTensor&size=full&fp=fp16\""
   ]
  },
  {
   "cell_type": "markdown",
   "id": "94f27cea-bf65-47f6-a550-7ed7c7910588",
   "metadata": {},
   "source": [
    "# Custom Nodes & Workflows"
   ]
  },
  {
   "cell_type": "code",
   "execution_count": null,
   "id": "938f7c08-11ff-4ccc-83a1-f062a968245f",
   "metadata": {
    "tags": []
   },
   "outputs": [],
   "source": [
    "#Isntall nodes:\n",
    "%cd $WORKING_DIR/ComfyUI/custom_nodes\n",
    "\n",
    "!git clone https://github.com/ssitu/ComfyUI_UltimateSDUpscale --recursive\n",
    "!git clone https://github.com/ltdrdata/ComfyUI-Manager\n",
    "!git clone https://github.com/pythongosssss/ComfyUI-Custom-Scripts\n",
    "!git clone https://github.com/city96/SD-Latent-Upscaler\n",
    "!git clone https://github.com/LucianoCirino/efficiency-nodes-comfyui\n",
    "!git clone https://github.com/BlenderNeko/ComfyUI_ADV_CLIP_emb\n",
    "!git clone https://github.com/ssitu/ComfyUI_NestedNodeBuilder\n",
    "\n",
    "# animatediff related custom nodes\n",
    "!git clone https://github.com/ArtVentureX/comfyui-animatediff\n",
    "!git clone https://github.com/Kosinkadink/ComfyUI-AnimateDiff-Evolved\n",
    "!git clone https://github.com/FizzleDorf/ComfyUI_FizzNodes\n",
    "!git clone https://github.com/Kosinkadink/ComfyUI-Advanced-ControlNet\n",
    "!git clone https://github.com/Fannovel16/comfyui_controlnet_aux\n",
    "!git clone https://github.com/Kosinkadink/ComfyUI-VideoHelperSuite\n",
    "\n",
    "# install requirements\n",
    "%cd $WORKING_DIR/ComfyUI/custom_nodes/ComfyUI-Manager\n",
    "!pip install -r requirements.txt\n",
    "\n",
    "%cd $WORKING_DIR/ComfyUI/custom_nodes/efficiency-nodes-comfyui\n",
    "!pip install -r requirements.txt\n",
    "\n",
    "%cd $WORKING_DIR/ComfyUI/custom_nodes/comfyui-animatediff\n",
    "!pip install -r requirements.txt\n",
    "\n",
    "%cd $WORKING_DIR/ComfyUI/custom_nodes/ComfyUI_FizzNodes\n",
    "!pip install -r requirements.txt\n",
    "\n",
    "%cd $WORKING_DIR/ComfyUI/custom_nodes/ComfyUI-Advanced-ControlNet\n",
    "!pip install -r requirements.txt\n",
    "\n",
    "%cd $WORKING_DIR/ComfyUI/custom_nodes/comfyui_controlnet_aux\n",
    "!pip install -r requirements.txt\n",
    "\n",
    "%cd $WORKING_DIR/ComfyUI/custom_nodes/ComfyUI-VideoHelperSuite\n",
    "!pip install -r requirements.txt\n"
   ]
  },
  {
   "cell_type": "markdown",
   "id": "0928d83f-8d02-488e-8fd1-35ec35f26735",
   "metadata": {
    "tags": []
   },
   "source": [
    "# wget animatediff models"
   ]
  },
  {
   "cell_type": "code",
   "execution_count": null,
   "id": "d309871d-8b95-44a5-81a7-7d4adf574155",
   "metadata": {
    "tags": []
   },
   "outputs": [],
   "source": [
    "## ComfyUI-AnimateDiff-Evolved Original models\n",
    "!curl -Lo $WORKING_DIR\"/ComfyUI/custom_nodes/ComfyUI-AnimateDiff-Evolved/models/mm_sd_v15_v2.ckpt\" \"https://huggingface.co/guoyww/animatediff/resolve/main/mm_sd_v15_v2.ckpt\"\n",
    "!curl -Lo $WORKING_DIR\"/ComfyUI/custom_nodes/ComfyUI-AnimateDiff-Evolved/models/temporaldiff-v1-animatediff.ckpt\" \"https://huggingface.co/CiaraRowles/TemporalDiff/resolve/main/temporaldiff-v1-animatediff.ckpt\"\n",
    "\n",
    "## ComfyUI-AnimateDiff-Evolved motion lora\n",
    "!curl -Lo $WORKING_DIR\"/ComfyUI/custom_nodes/ComfyUI-AnimateDiff-Evolved/motion_lora/v2_lora_PanLeft.ckpt\" \"https://huggingface.co/guoyww/animatediff/resolve/main/v2_lora_PanLeft.ckpt\"\n",
    "!curl -Lo $WORKING_DIR\"/ComfyUI/custom_nodes/ComfyUI-AnimateDiff-Evolved/motion_lora/v2_lora_PanRight.ckpt\" \"https://huggingface.co/guoyww/animatediff/resolve/main/v2_lora_PanRight.ckpt\"\n",
    "!curl -Lo $WORKING_DIR\"/ComfyUI/custom_nodes/ComfyUI-AnimateDiff-Evolved/motion_lora/v2_lora_RollingAnticlockwise.ckpt\" \"https://huggingface.co/guoyww/animatediff/resolve/main/v2_lora_RollingAnticlockwise.ckpt\"\n",
    "!curl -Lo $WORKING_DIR\"/ComfyUI/custom_nodes/ComfyUI-AnimateDiff-Evolved/motion_lora/v2_lora_RollingClockwise.ckpt\" \"https://huggingface.co/guoyww/animatediff/resolve/main/v2_lora_RollingClockwise.ckpt\"\n",
    "!curl -Lo $WORKING_DIR\"/ComfyUI/custom_nodes/ComfyUI-AnimateDiff-Evolved/motion_lora/v2_lora_TiltDown.ckpt\" \"https://huggingface.co/guoyww/animatediff/resolve/main/v2_lora_TiltDown.ckpt\"\n",
    "!curl -Lo $WORKING_DIR\"/ComfyUI/custom_nodes/ComfyUI-AnimateDiff-Evolved/motion_lora/v2_lora_TiltUp.ckpt\" \"https://huggingface.co/guoyww/animatediff/resolve/main/v2_lora_TiltUp.ckpt\"\n",
    "!curl -Lo $WORKING_DIR\"/ComfyUI/custom_nodes/ComfyUI-AnimateDiff-Evolved/motion_lora/v2_lora_ZoomIn.ckpt\" \"https://huggingface.co/guoyww/animatediff/resolve/main/v2_lora_ZoomIn.ckpt\"\n",
    "!curl -Lo $WORKING_DIR\"/ComfyUI/custom_nodes/ComfyUI-AnimateDiff-Evolved/motion_lora/v2_lora_ZoomOut.ckpt\" \"https://huggingface.co/guoyww/animatediff/resolve/main/v2_lora_ZoomOut.ckpt\"\n",
    "\n",
    "## comfyui-animatediff Original models\n",
    "!curl -Lo $WORKING_DIR\"/ComfyUI/custom_nodes/comfyui-animatediff/models/mm_sd_v15_v2.ckpt\" \"https://huggingface.co/guoyww/animatediff/resolve/main/mm_sd_v15_v2.ckpt\"\n",
    "!curl -Lo $WORKING_DIR\"/ComfyUI/custom_nodes/comfyui-animatediff/models/temporaldiff-v1-animatediff.ckpt\" \"https://huggingface.co/CiaraRowles/TemporalDiff/resolve/main/temporaldiff-v1-animatediff.ckpt\"\n",
    "\n",
    "## comfyui-animatediff motion lora\n",
    "!curl -Lo $WORKING_DIR\"/ComfyUI/custom_nodes/comfyui-animatediff/loras/v2_lora_PanLeft.ckpt\" \"https://huggingface.co/guoyww/animatediff/resolve/main/v2_lora_PanLeft.ckpt\"\n",
    "!curl -Lo $WORKING_DIR\"/ComfyUI/custom_nodes/comfyui-animatediff/loras/v2_lora_PanRight.ckpt\" \"https://huggingface.co/guoyww/animatediff/resolve/main/v2_lora_PanRight.ckpt\"\n",
    "!curl -Lo $WORKING_DIR\"/ComfyUI/custom_nodes/comfyui-animatediff/loras/v2_lora_RollingAnticlockwise.ckpt\" \"https://huggingface.co/guoyww/animatediff/resolve/main/v2_lora_RollingAnticlockwise.ckpt\"\n",
    "!curl -Lo $WORKING_DIR\"/ComfyUI/custom_nodes/comfyui-animatediff/loras/v2_lora_RollingClockwise.ckpt\" \"https://huggingface.co/guoyww/animatediff/resolve/main/v2_lora_RollingClockwise.ckpt\"\n",
    "!curl -Lo $WORKING_DIR\"/ComfyUI/custom_nodes/comfyui-animatediff/loras/v2_lora_TiltDown.ckpt\" \"https://huggingface.co/guoyww/animatediff/resolve/main/v2_lora_TiltDown.ckpt\"\n",
    "!curl -Lo $WORKING_DIR\"/ComfyUI/custom_nodes/comfyui-animatediff/loras/v2_lora_TiltUp.ckpt\" \"https://huggingface.co/guoyww/animatediff/resolve/main/v2_lora_TiltUp.ckpt\"\n",
    "!curl -Lo $WORKING_DIR\"/ComfyUI/custom_nodes/comfyui-animatediff/loras/v2_lora_ZoomIn.ckpt\" \"https://huggingface.co/guoyww/animatediff/resolve/main/v2_lora_ZoomIn.ckpt\"\n",
    "!curl -Lo $WORKING_DIR\"/ComfyUI/custom_nodes/comfyui-animatediff/loras/v2_lora_ZoomOut.ckpt\" \"https://huggingface.co/guoyww/animatediff/resolve/main/v2_lora_ZoomOut.ckpt\""
   ]
  },
  {
   "cell_type": "markdown",
   "id": "d14bcf92-1601-4344-be25-94c0aa74a584",
   "metadata": {
    "tags": []
   },
   "source": [
    "## Change the default workflow:"
   ]
  },
  {
   "cell_type": "code",
   "execution_count": null,
   "id": "aed9a6d7-3e9e-4373-bdc9-ca773728ef41",
   "metadata": {
    "tags": []
   },
   "outputs": [],
   "source": [
    "#!rm -r $WORKING_DIR/ComfyUI/web/scripts/defaultGraph.js\n",
    "#%cd $WORKING_DIR/ComfyUI/web/scripts\n",
    "#!curl -Lo $WORKING_DIR\"/ComfyUI/web/scripts/defaultGraph.js\" \"https://huggingface.co/Laft/Workflow_for_ComfyUI/resolve/main/defaultGraph.js\""
   ]
  },
  {
   "cell_type": "markdown",
   "id": "f9c65dbe-9f3a-41fa-b8b9-dd393b4556bf",
   "metadata": {},
   "source": [
    "# Run ComfyUI instance"
   ]
  },
  {
   "cell_type": "code",
   "execution_count": 30,
   "id": "c0133c93-cb15-41b8-9ec9-80b9ce79e8db",
   "metadata": {
    "tags": []
   },
   "outputs": [
    {
     "name": "stderr",
     "output_type": "stream",
     "text": [
      "t=2023-10-18T06:11:09+0000 lvl=warn msg=\"ngrok config file found at legacy location, move to XDG location\" xdg_path=/home/ec2-user/.config/ngrok/ngrok.yml legacy_path=/home/ec2-user/.ngrok2/ngrok.yml\n"
     ]
    },
    {
     "name": "stdout",
     "output_type": "stream",
     "text": [
      "NgrokTunnel: \"https://483b-34-236-18-197.ngrok-free.app\" -> \"http://localhost:8188\"\n",
      "/home/ec2-user/SageMaker/ComfyUI\n",
      "** ComfyUI start up time: 2023-10-18 06:11:09.916757\n",
      "\n",
      "Prestartup times for custom nodes:\n",
      "   0.0 seconds: /home/ec2-user/SageMaker/ComfyUI/custom_nodes/ComfyUI-Manager\n",
      "\n",
      "Total VRAM 22723 MB, total RAM 31737 MB\n",
      "Set vram state to: NORMAL_VRAM\n",
      "Device: cuda:0 NVIDIA A10G : cudaMallocAsync\n",
      "VAE dtype: torch.bfloat16\n",
      "Using pytorch cross attention\n",
      "### Loading: ComfyUI-Manager (V0.36)\n",
      "### ComfyUI Revision: 1588 [d44a2de4] | Released on '2023-10-17'\n",
      "\u001b[36mEfficiency Nodes:\u001b[0m Adding City96's 'SD-Latent-Upscaler' selections to the 'HighRes-Fix' node...\u001b[92mSuccess!\u001b[0m\n",
      "\u001b[34mFizzleDorf Custom Nodes: \u001b[92mLoaded\u001b[0m\n",
      "Registered sys.path: ['/home/ec2-user/SageMaker/ComfyUI/custom_nodes/comfyui_controlnet_aux/src/__init__.py', '/home/ec2-user/SageMaker/ComfyUI/custom_nodes/comfyui_controlnet_aux/src/custom_midas_repo', '/home/ec2-user/SageMaker/ComfyUI/custom_nodes/comfyui_controlnet_aux/src/custom_oneformer', '/home/ec2-user/SageMaker/ComfyUI/custom_nodes/comfyui_controlnet_aux/src/custom_detectron2', '/home/ec2-user/SageMaker/ComfyUI/custom_nodes/comfyui_controlnet_aux/src/controlnet_aux', '/home/ec2-user/SageMaker/ComfyUI/custom_nodes/comfyui_controlnet_aux/src/custom_mmpkg', '/home/ec2-user/SageMaker/ComfyUI/custom_nodes/comfyui_controlnet_aux/src/custom_pycocotools', '/home/ec2-user/SageMaker/ComfyUI/custom_nodes/comfyui_controlnet_aux/src', '/home/ec2-user/SageMaker/ComfyUI/custom_nodes/ComfyUI-Custom-Scripts', '/home/ec2-user/SageMaker/ComfyUI/comfy', '/home/ec2-user/anaconda3/envs/pytorch_p310/lib/python3.10/site-packages/git/ext/gitdb', '/home/ec2-user/anaconda3/envs/pytorch_p310/lib/python310.zip', '/home/ec2-user/anaconda3/envs/pytorch_p310/lib/python3.10', '/home/ec2-user/anaconda3/envs/pytorch_p310/lib/python3.10/lib-dynload', '/home/ec2-user/anaconda3/envs/pytorch_p310/lib/python3.10/site-packages', '/tmp/tmplvdjhkmq', '../..', '/home/ec2-user/SageMaker/ComfyUI/custom_nodes/ComfyUI_NestedNodeBuilder', '/home/ec2-user/SageMaker/ComfyUI', '/home/ec2-user/SageMaker/ComfyUI/custom_nodes/efficiency-nodes-comfyui', '/home/ec2-user/SageMaker/ComfyUI', '/home/ec2-user/SageMaker/ComfyUI/custom_nodes']\n",
      "/home/ec2-user/SageMaker/ComfyUI/custom_nodes/comfyui_controlnet_aux/node_wrappers/dwpose.py:26: UserWarning: DWPose: Onnxruntime not found or doesn't come with acceleration providers, switch to OpenCV with CPU device. DWPose might run very slowly\n",
      "  warnings.warn(\"DWPose: Onnxruntime not found or doesn't come with acceleration providers, switch to OpenCV with CPU device. DWPose might run very slowly\")\n",
      "Using pytorch cross attention\n",
      "\n",
      "Import times for custom nodes:\n",
      "   0.0 seconds: /home/ec2-user/SageMaker/ComfyUI/custom_nodes/SD-Latent-Upscaler\n",
      "   0.0 seconds: /home/ec2-user/SageMaker/ComfyUI/custom_nodes/ComfyUI_NestedNodeBuilder\n",
      "   0.0 seconds: /home/ec2-user/SageMaker/ComfyUI/custom_nodes/ComfyUI_ADV_CLIP_emb\n",
      "   0.0 seconds: /home/ec2-user/SageMaker/ComfyUI/custom_nodes/ComfyUI-Advanced-ControlNet\n",
      "   0.0 seconds: /home/ec2-user/SageMaker/ComfyUI/custom_nodes/comfyui-animatediff\n",
      "   0.0 seconds: /home/ec2-user/SageMaker/ComfyUI/custom_nodes/ComfyUI_UltimateSDUpscale\n",
      "   0.0 seconds: /home/ec2-user/SageMaker/ComfyUI/custom_nodes/ComfyUI-AnimateDiff-Evolved\n",
      "   0.0 seconds: /home/ec2-user/SageMaker/ComfyUI/custom_nodes/efficiency-nodes-comfyui\n",
      "   0.0 seconds: /home/ec2-user/SageMaker/ComfyUI/custom_nodes/ComfyUI-Custom-Scripts\n",
      "   0.0 seconds: /home/ec2-user/SageMaker/ComfyUI/custom_nodes/ComfyUI-VideoHelperSuite\n",
      "   0.1 seconds: /home/ec2-user/SageMaker/ComfyUI/custom_nodes/ComfyUI-Manager\n",
      "   0.2 seconds: /home/ec2-user/SageMaker/ComfyUI/custom_nodes/ComfyUI_FizzNodes\n",
      "   0.3 seconds: /home/ec2-user/SageMaker/ComfyUI/custom_nodes/comfyui_controlnet_aux\n",
      "\n",
      "Starting server\n",
      "\n",
      "To see the GUI go to: http://127.0.0.1:8188\n",
      "^C\n",
      "\n",
      "Stopped server\n"
     ]
    }
   ],
   "source": [
    "ngrok_token=NGROK_AUTHTOKEN\n",
    "\n",
    "from threading import Timer\n",
    "from queue import Queue\n",
    "from pyngrok import ngrok\n",
    "\n",
    "def ngrok_tunnel(port,queue,auth_token):\n",
    "    ngrok.set_auth_token(auth_token)\n",
    "    url = ngrok.connect(port)\n",
    "    queue.put(url)\n",
    "\n",
    "ngrok_output_queue = Queue()\n",
    "ngrok_thread = Timer(2, ngrok_tunnel, args=(8188, ngrok_output_queue, ngrok_token))\n",
    "ngrok_thread.start()\n",
    "ngrok_thread.join()\n",
    "print(ngrok_output_queue.get())\n",
    "\n",
    "%cd $WORKING_DIR/ComfyUI\n",
    "!python main.py --preview-method auto --enable-cors-header --use-pytorch-cross-attention --disable-xformers"
   ]
  },
  {
   "cell_type": "code",
   "execution_count": null,
   "id": "65c5f295-d9b8-40d8-9497-050b5244ce61",
   "metadata": {},
   "outputs": [],
   "source": []
  }
 ],
 "metadata": {
  "kernelspec": {
   "display_name": "conda_pytorch_p310",
   "language": "python",
   "name": "conda_pytorch_p310"
  },
  "language_info": {
   "codemirror_mode": {
    "name": "ipython",
    "version": 3
   },
   "file_extension": ".py",
   "mimetype": "text/x-python",
   "name": "python",
   "nbconvert_exporter": "python",
   "pygments_lexer": "ipython3",
   "version": "3.10.12"
  }
 },
 "nbformat": 4,
 "nbformat_minor": 5
}
